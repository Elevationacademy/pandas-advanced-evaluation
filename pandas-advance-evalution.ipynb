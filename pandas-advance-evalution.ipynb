{
 "cells": [
  {
   "cell_type": "markdown",
   "metadata": {},
   "source": [
    "# pandas advanced evaluation"
   ]
  },
  {
   "cell_type": "code",
   "execution_count": null,
   "metadata": {},
   "outputs": [],
   "source": [
    "import pandas as pd\n",
    "data = pd.read_csv(\"compressed_sudeste.csv.zip\")"
   ]
  },
  {
   "cell_type": "markdown",
   "metadata": {},
   "source": [
    "columns: \n",
    "1. wsid - Weather station id\n",
    "1. wsnm - Name station\n",
    "1. elvt - elevation (meters)\n",
    "1. lat - Latitude\n",
    "1. lon - longtitude\n",
    "1. inme - stattion number\n",
    "1. city - City\n",
    "1. prov - Provicnce\n",
    "1. mdct - Observation Date time\n",
    "1. Date - Observation date \n",
    "1. year - Observation year\n",
    "1. month - Observation month\n",
    "1. day - Observation day\n",
    "1. hr - Observation hour\n",
    "1. prcp - Amount of precipitation in millimetres\n",
    "1. stp - Air pressure for the hour in hPa to tenths (instant)\n",
    "1. smax - Maximum air pressure for the last hour in hPa to tenths\n",
    "1. smin - Minimum air pressure for the last hour in hPa to tenths\n",
    "1. gbrd - Solar radiation KJ/m2\n",
    "1. temp - Air temperature (instant) in celsius degrees\n",
    "1. dewp - Dew point temperature (instant) in celsius degrees\n",
    "1. tmax - Maximum temperature for the last hour in celsius degrees\n",
    "1. dmax - Maximum dew point temperature for the last hour in celsius degrees\n",
    "1. tmin - Minimum temperature for the last hour in celsius degrees\n",
    "1. dmin - Minimum dew point temperature for the last hour in celsius degrees\n",
    "1. hdmy - Relative humid in % (instant)\n",
    "1. hmax - Maximum relative humid temperature for the last hour in %\n",
    "1. hmin - Minimum relative humid temperature for the last hour in %\n",
    "1. wdsp - Wind speed in metres per second\n",
    "1. wdct - Wind direction in radius degrees (0-360)\n",
    "1. gust - Wind gust in metres per second\n"
   ]
  },
  {
   "cell_type": "markdown",
   "metadata": {},
   "source": [
    "## Visualize weather station geo-locations.\n",
    "\n",
    "prepares a list of weather stations and there geographic location. "
   ]
  },
  {
   "cell_type": "code",
   "execution_count": null,
   "metadata": {},
   "outputs": [],
   "source": [
    "def getStationsList():\n",
    "    # modify your function to return only station id, it's name and its altitude, latitude and eleavtion. \n",
    "    return data"
   ]
  },
  {
   "cell_type": "code",
   "execution_count": null,
   "metadata": {},
   "outputs": [],
   "source": [
    "import plotly.graph_objects as go\n",
    "def visualizeStation(stations):\n",
    "    fig = go.Figure(data=go.Scattergeo(\n",
    "            lon = stations['lon'],\n",
    "            lat = stations['lat'],\n",
    "            text = stations['wsnm'],\n",
    "            mode = 'markers',\n",
    "            marker_color = stations['elvt'],\n",
    "            ))\n",
    "\n",
    "    fig.update_layout(\n",
    "            title = 'Brazil weather stations',\n",
    "            geo_scope='south america',\n",
    "        )\n",
    "    fig.show()\n",
    "visualizeStation(getStationsList())"
   ]
  },
  {
   "cell_type": "code",
   "execution_count": null,
   "metadata": {},
   "outputs": [],
   "source": []
  }
 ],
 "metadata": {
  "kernelspec": {
   "display_name": "Python 3",
   "language": "python",
   "name": "python3"
  },
  "language_info": {
   "codemirror_mode": {
    "name": "ipython",
    "version": 3
   },
   "file_extension": ".py",
   "mimetype": "text/x-python",
   "name": "python",
   "nbconvert_exporter": "python",
   "pygments_lexer": "ipython3",
   "version": "3.7.6"
  }
 },
 "nbformat": 4,
 "nbformat_minor": 4
}
